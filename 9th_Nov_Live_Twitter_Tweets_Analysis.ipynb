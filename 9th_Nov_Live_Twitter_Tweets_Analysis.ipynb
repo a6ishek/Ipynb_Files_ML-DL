{
  "nbformat": 4,
  "nbformat_minor": 0,
  "metadata": {
    "colab": {
      "provenance": [],
      "include_colab_link": true
    },
    "kernelspec": {
      "name": "python3",
      "display_name": "Python 3"
    }
  },
  "cells": [
    {
      "cell_type": "markdown",
      "metadata": {
        "id": "view-in-github",
        "colab_type": "text"
      },
      "source": [
        "<a href=\"https://colab.research.google.com/github/a6ishek/Ipynb_Files_ML-DL/blob/main/9th_Nov_Live_Twitter_Tweets_Analysis.ipynb\" target=\"_parent\"><img src=\"https://colab.research.google.com/assets/colab-badge.svg\" alt=\"Open In Colab\"/></a>"
      ]
    },
    {
      "cell_type": "code",
      "metadata": {
        "id": "t4ZIoaKmay-F",
        "cellView": "form"
      },
      "source": [
        "# @title Hidden\n",
        "api_key = \"ELnpqKqgHLEep035UZN2yA2wt\"\n",
        "api_secret = \"eQpYIycVaJ47nYv1qhDeOAVnpn5f65DOCp3y1toI3amDIgemS5\"\n",
        "access_token = \"182925782-RQNGrRz1QlzrhxhJVYYGgedHLL9zSyyFc3BGVZNa\"\n",
        "access_token_secret = \"VvW4hvn4Tbfy3hcOHumbQyU0oyW7NZCnECfbjBAYj8sWz\""
      ],
      "execution_count": null,
      "outputs": []
    },
    {
      "cell_type": "code",
      "metadata": {
        "id": "9Lw1bIJZbXYO"
      },
      "source": [
        "import tweepy\n",
        "from textblob import TextBlob"
      ],
      "execution_count": null,
      "outputs": []
    },
    {
      "cell_type": "code",
      "metadata": {
        "id": "8b05_z0ObwzR"
      },
      "source": [
        "auth = tweepy.OAuthHandler(api_key,api_secret)\n",
        "auth.set_access_token(access_token,access_token_secret)"
      ],
      "execution_count": null,
      "outputs": []
    },
    {
      "cell_type": "code",
      "metadata": {
        "id": "NS_ZFZZAcDXl"
      },
      "source": [
        "api = tweepy.API(auth)"
      ],
      "execution_count": null,
      "outputs": []
    },
    {
      "cell_type": "code",
      "metadata": {
        "id": "-7UA20FycJzG"
      },
      "source": [
        "tweets = api.search(\"Bihar Election\")"
      ],
      "execution_count": null,
      "outputs": []
    },
    {
      "cell_type": "code",
      "metadata": {
        "id": "jxXUZPAqciIC",
        "outputId": "8f00c199-99e8-4902-cb5e-ca0c6a1d2ba6",
        "colab": {
          "base_uri": "https://localhost:8080/"
        }
      },
      "source": [
        "len(tweets)"
      ],
      "execution_count": null,
      "outputs": [
        {
          "output_type": "execute_result",
          "data": {
            "text/plain": [
              "15"
            ]
          },
          "metadata": {
            "tags": []
          },
          "execution_count": 30
        }
      ]
    },
    {
      "cell_type": "code",
      "metadata": {
        "id": "jEEVP89gcj95",
        "outputId": "68e8c3b3-16ff-4a75-9753-cf4ed92f121f",
        "colab": {
          "base_uri": "https://localhost:8080/",
          "height": 52
        }
      },
      "source": [
        "tweets[0].text"
      ],
      "execution_count": null,
      "outputs": [
        {
          "output_type": "execute_result",
          "data": {
            "application/vnd.google.colaboratory.intrinsic+json": {
              "type": "string"
            },
            "text/plain": [
              "'RT @RavinderKapur2: Just to inform you that Modi &amp; Shah  have lost the last 9 consecutive elections to the Cong  &amp; its allies or the opposi…'"
            ]
          },
          "metadata": {
            "tags": []
          },
          "execution_count": 31
        }
      ]
    },
    {
      "cell_type": "code",
      "metadata": {
        "id": "YdpCqZn2e_al",
        "outputId": "3b33c8ae-7a58-42bd-a2d3-f4e797eba04d",
        "colab": {
          "base_uri": "https://localhost:8080/"
        }
      },
      "source": [
        "score = TextBlob(\"good\")\n",
        "score.sentiment"
      ],
      "execution_count": null,
      "outputs": [
        {
          "output_type": "execute_result",
          "data": {
            "text/plain": [
              "Sentiment(polarity=0.7, subjectivity=0.6000000000000001)"
            ]
          },
          "metadata": {
            "tags": []
          },
          "execution_count": 32
        }
      ]
    },
    {
      "cell_type": "code",
      "metadata": {
        "id": "KHnYdzW_fIxZ",
        "outputId": "fc9fff4d-c671-4a4f-e99c-fba9e9e25454",
        "colab": {
          "base_uri": "https://localhost:8080/"
        }
      },
      "source": [
        "score = TextBlob(\"very good\")\n",
        "score.sentiment"
      ],
      "execution_count": null,
      "outputs": [
        {
          "output_type": "execute_result",
          "data": {
            "text/plain": [
              "Sentiment(polarity=0.9099999999999999, subjectivity=0.7800000000000001)"
            ]
          },
          "metadata": {
            "tags": []
          },
          "execution_count": 33
        }
      ]
    },
    {
      "cell_type": "code",
      "metadata": {
        "id": "U2leMg38fMPS",
        "outputId": "25e6dfd2-e138-4980-fc5e-20e73e065cb3",
        "colab": {
          "base_uri": "https://localhost:8080/"
        }
      },
      "source": [
        "score = TextBlob(\"very bad\")\n",
        "score.sentiment"
      ],
      "execution_count": null,
      "outputs": [
        {
          "output_type": "execute_result",
          "data": {
            "text/plain": [
              "Sentiment(polarity=-0.9099999999999998, subjectivity=0.8666666666666667)"
            ]
          },
          "metadata": {
            "tags": []
          },
          "execution_count": 34
        }
      ]
    },
    {
      "cell_type": "code",
      "metadata": {
        "id": "7mIxKMO2fXtW",
        "outputId": "3f2a2815-d6b9-40bc-cd0b-75a9350f3224",
        "colab": {
          "base_uri": "https://localhost:8080/"
        }
      },
      "source": [
        "score.sentiment[0]"
      ],
      "execution_count": null,
      "outputs": [
        {
          "output_type": "execute_result",
          "data": {
            "text/plain": [
              "-0.9099999999999998"
            ]
          },
          "metadata": {
            "tags": []
          },
          "execution_count": 35
        }
      ]
    },
    {
      "cell_type": "code",
      "metadata": {
        "id": "__F56MOOcmC3",
        "outputId": "79afb0fb-fcbb-4c1b-a84e-2f634e9e2f65",
        "colab": {
          "base_uri": "https://localhost:8080/"
        }
      },
      "source": [
        "score = TextBlob(tweets[2].text)\n",
        "score.sentiment"
      ],
      "execution_count": null,
      "outputs": [
        {
          "output_type": "execute_result",
          "data": {
            "text/plain": [
              "Sentiment(polarity=0.3333333333333333, subjectivity=0.6666666666666666)"
            ]
          },
          "metadata": {
            "tags": []
          },
          "execution_count": 36
        }
      ]
    },
    {
      "cell_type": "code",
      "metadata": {
        "id": "x185Llf8e4OO",
        "outputId": "34bef16f-fc52-45ff-8ec4-8953f867c166",
        "colab": {
          "base_uri": "https://localhost:8080/",
          "height": 52
        }
      },
      "source": [
        "tweets[2].text"
      ],
      "execution_count": null,
      "outputs": [
        {
          "output_type": "execute_result",
          "data": {
            "application/vnd.google.colaboratory.intrinsic+json": {
              "type": "string"
            },
            "text/plain": [
              "'Super 77 will be the deciding factor in the Bihar election results. We are all seeing these elections with a nation… https://t.co/AUCOTGz6YW'"
            ]
          },
          "metadata": {
            "tags": []
          },
          "execution_count": 37
        }
      ]
    },
    {
      "cell_type": "code",
      "metadata": {
        "id": "o8Q7J0aHfrvX"
      },
      "source": [],
      "execution_count": null,
      "outputs": []
    }
  ]
}