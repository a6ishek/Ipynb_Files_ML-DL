{
  "nbformat": 4,
  "nbformat_minor": 0,
  "metadata": {
    "colab": {
      "provenance": [],
      "include_colab_link": true
    },
    "kernelspec": {
      "name": "python3",
      "display_name": "Python 3"
    }
  },
  "cells": [
    {
      "cell_type": "markdown",
      "metadata": {
        "id": "view-in-github",
        "colab_type": "text"
      },
      "source": [
        "<a href=\"https://colab.research.google.com/github/a6ishek/Ipynb_Files_ML-DL/blob/main/dogvscat_CNN.ipynb\" target=\"_parent\"><img src=\"https://colab.research.google.com/assets/colab-badge.svg\" alt=\"Open In Colab\"/></a>"
      ]
    },
    {
      "cell_type": "code",
      "metadata": {
        "id": "d0rhCvKmdKzo"
      },
      "source": [
        "import pandas as pd\n",
        "import matplotlib.pyplot as plt\n",
        "import numpy as np\n",
        "from sklearn.metrics import confusion_matrix\n",
        "from sklearn.metrics import classification_report\n",
        "import tensorflow.keras as tf\n",
        "from zipfile import ZipFile\n"
      ],
      "execution_count": null,
      "outputs": []
    },
    {
      "cell_type": "code",
      "metadata": {
        "id": "_5GeYBYPhZwT",
        "outputId": "0ec1f6a1-d9de-4945-f249-a9823f73d32a",
        "colab": {
          "base_uri": "https://localhost:8080/",
          "height": 34
        }
      },
      "source": [
        "from google.colab import drive\n",
        "drive.mount('/content/drive')"
      ],
      "execution_count": null,
      "outputs": [
        {
          "output_type": "stream",
          "text": [
            "Mounted at /content/drive\n"
          ],
          "name": "stdout"
        }
      ]
    },
    {
      "cell_type": "code",
      "metadata": {
        "id": "yiXb8ppsgb3C",
        "outputId": "8f0858ee-1d70-430c-bd1a-f77d06eff710",
        "colab": {
          "base_uri": "https://localhost:8080/",
          "height": 34
        }
      },
      "source": [
        "file_path = '/content/drive/My Drive/catsvsdogs cnn.zip'\n",
        "with ZipFile(file_path,'r') as zip:\n",
        "  zip.extractall()\n",
        "print('completed')"
      ],
      "execution_count": null,
      "outputs": [
        {
          "output_type": "stream",
          "text": [
            "completed\n"
          ],
          "name": "stdout"
        }
      ]
    },
    {
      "cell_type": "code",
      "metadata": {
        "id": "ahBHNHqXhUW2"
      },
      "source": [
        "from tensorflow.keras.layers import *\n",
        "from tensorflow.keras.models import *\n",
        "from tensorflow.keras.preprocessing import image"
      ],
      "execution_count": null,
      "outputs": []
    },
    {
      "cell_type": "code",
      "metadata": {
        "id": "G2aE92oDjWAe"
      },
      "source": [
        "model = Sequential()\n",
        "model.add(Conv2D(32,kernel_size=(3,3),activation = 'relu',input_shape=(224,224,3)))\n",
        "model.add(MaxPool2D(pool_size=(2,2)))\n",
        "model.add(Dropout(0.25))\n",
        "model.add(Conv2D(64,kernel_size=(3,3),activation = 'relu',input_shape=(224,224,3)))\n",
        "model.add(MaxPool2D(pool_size=(2,2)))\n",
        "model.add(Dropout(0.25))\n",
        "model.add(Conv2D(64,kernel_size=(3,3),activation = 'relu',input_shape=(224,224,3)))\n",
        "model.add(MaxPool2D(pool_size=(2,2)))\n",
        "model.add(Dropout(0.25))\n",
        "model.add(Conv2D(128,kernel_size=(3,3),activation = 'relu',input_shape=(224,224,3)))\n",
        "model.add(MaxPool2D(pool_size=(2,2)))\n",
        "model.add(Dropout(0.5))"
      ],
      "execution_count": null,
      "outputs": []
    },
    {
      "cell_type": "code",
      "metadata": {
        "id": "A6OO4FK-p689"
      },
      "source": [
        "model.add(Flatten())\n",
        "model.add(Dense(32,activation = 'relu'))\n",
        "model.add(Dropout(0.25))\n",
        "model.add(Dense(64,activation = 'relu'))\n",
        "model.add(Dense(1,activation='sigmoid'))\n",
        "model.compile(loss = 'binary_crossentropy',optimizer= 'adam',metrics= ['accuracy'])"
      ],
      "execution_count": null,
      "outputs": []
    },
    {
      "cell_type": "code",
      "metadata": {
        "id": "u4aKRFJUq_cD"
      },
      "source": [
        "train_set = image.ImageDataGenerator(rescale=1./255,zoom_range=0.2,shear_range=0.2,horizontal_flip=True)\n",
        "testing_set = image.ImageDataGenerator(rescale=1./255)"
      ],
      "execution_count": null,
      "outputs": []
    },
    {
      "cell_type": "code",
      "metadata": {
        "id": "JEg1XqKUsBBG",
        "outputId": "a95102b3-2017-4416-c5cb-e5680d0b11a8",
        "colab": {
          "base_uri": "https://localhost:8080/",
          "height": 50
        }
      },
      "source": [
        "train_generator = train_set.flow_from_directory(\n",
        "    '/content/training_set/training_set',\n",
        "    target_size = (224,224),\n",
        "    batch_size = 10,\n",
        "    class_mode = 'binary'\n",
        ")\n",
        "validation_generator = testing_set.flow_from_directory(\n",
        "    '/content/test_set/test_set',\n",
        "    target_size = (224,224),\n",
        "    batch_size = 10,\n",
        "    class_mode = 'binary'\n",
        ")"
      ],
      "execution_count": null,
      "outputs": [
        {
          "output_type": "stream",
          "text": [
            "Found 8005 images belonging to 2 classes.\n",
            "Found 2023 images belonging to 2 classes.\n"
          ],
          "name": "stdout"
        }
      ]
    },
    {
      "cell_type": "code",
      "metadata": {
        "id": "XDY78RUktYQl",
        "outputId": "aae4b8cc-5366-437b-9758-80b09916bb94",
        "colab": {
          "base_uri": "https://localhost:8080/",
          "height": 1000
        }
      },
      "source": [
        "trained_model = model.fit_generator(\n",
        "    train_generator,\n",
        "    steps_per_epoch = 10,\n",
        "    epochs = 30,\n",
        "    validation_data = validation_generator,\n",
        "    validation_steps = 20\n",
        ")"
      ],
      "execution_count": null,
      "outputs": [
        {
          "output_type": "stream",
          "text": [
            "Epoch 1/30\n",
            "10/10 [==============================] - 14s 1s/step - loss: 0.6951 - accuracy: 0.4700 - val_loss: 0.6930 - val_accuracy: 0.5100\n",
            "Epoch 2/30\n",
            "10/10 [==============================] - 14s 1s/step - loss: 0.6959 - accuracy: 0.4300 - val_loss: 0.6932 - val_accuracy: 0.4950\n",
            "Epoch 3/30\n",
            "10/10 [==============================] - 13s 1s/step - loss: 0.6931 - accuracy: 0.4900 - val_loss: 0.6925 - val_accuracy: 0.5500\n",
            "Epoch 4/30\n",
            "10/10 [==============================] - 14s 1s/step - loss: 0.6953 - accuracy: 0.4400 - val_loss: 0.6938 - val_accuracy: 0.4400\n",
            "Epoch 5/30\n",
            "10/10 [==============================] - 13s 1s/step - loss: 0.6952 - accuracy: 0.4000 - val_loss: 0.6929 - val_accuracy: 0.5550\n",
            "Epoch 6/30\n",
            "10/10 [==============================] - 14s 1s/step - loss: 0.6950 - accuracy: 0.5000 - val_loss: 0.6919 - val_accuracy: 0.5350\n",
            "Epoch 7/30\n",
            "10/10 [==============================] - 14s 1s/step - loss: 0.6939 - accuracy: 0.5000 - val_loss: 0.6933 - val_accuracy: 0.5000\n",
            "Epoch 8/30\n",
            "10/10 [==============================] - 13s 1s/step - loss: 0.6951 - accuracy: 0.4600 - val_loss: 0.6927 - val_accuracy: 0.5500\n",
            "Epoch 9/30\n",
            "10/10 [==============================] - 14s 1s/step - loss: 0.6928 - accuracy: 0.5500 - val_loss: 0.6934 - val_accuracy: 0.4450\n",
            "Epoch 10/30\n",
            "10/10 [==============================] - 14s 1s/step - loss: 0.6940 - accuracy: 0.4700 - val_loss: 0.6930 - val_accuracy: 0.5150\n",
            "Epoch 11/30\n",
            "10/10 [==============================] - 13s 1s/step - loss: 0.6934 - accuracy: 0.5100 - val_loss: 0.6931 - val_accuracy: 0.5050\n",
            "Epoch 12/30\n",
            "10/10 [==============================] - 13s 1s/step - loss: 0.6953 - accuracy: 0.4300 - val_loss: 0.6932 - val_accuracy: 0.4200\n",
            "Epoch 13/30\n",
            "10/10 [==============================] - 13s 1s/step - loss: 0.6939 - accuracy: 0.4500 - val_loss: 0.6932 - val_accuracy: 0.4900\n",
            "Epoch 14/30\n",
            "10/10 [==============================] - 13s 1s/step - loss: 0.6933 - accuracy: 0.5100 - val_loss: 0.6925 - val_accuracy: 0.5400\n",
            "Epoch 15/30\n",
            "10/10 [==============================] - 14s 1s/step - loss: 0.6954 - accuracy: 0.4300 - val_loss: 0.6926 - val_accuracy: 0.5450\n",
            "Epoch 16/30\n",
            "10/10 [==============================] - 13s 1s/step - loss: 0.6924 - accuracy: 0.4700 - val_loss: 0.6930 - val_accuracy: 0.5100\n",
            "Epoch 17/30\n",
            "10/10 [==============================] - 13s 1s/step - loss: 0.6933 - accuracy: 0.5100 - val_loss: 0.6957 - val_accuracy: 0.4500\n",
            "Epoch 18/30\n",
            "10/10 [==============================] - 14s 1s/step - loss: 0.6918 - accuracy: 0.5200 - val_loss: 0.6927 - val_accuracy: 0.5150\n",
            "Epoch 19/30\n",
            "10/10 [==============================] - 13s 1s/step - loss: 0.6954 - accuracy: 0.4400 - val_loss: 0.6942 - val_accuracy: 0.4800\n",
            "Epoch 20/30\n",
            "10/10 [==============================] - 13s 1s/step - loss: 0.6890 - accuracy: 0.5800 - val_loss: 0.6895 - val_accuracy: 0.5700\n",
            "Epoch 21/30\n",
            "10/10 [==============================] - 16s 2s/step - loss: 0.6938 - accuracy: 0.5000 - val_loss: 0.6923 - val_accuracy: 0.5200\n",
            "Epoch 22/30\n",
            "10/10 [==============================] - 13s 1s/step - loss: 0.6897 - accuracy: 0.5500 - val_loss: 0.6904 - val_accuracy: 0.5400\n",
            "Epoch 23/30\n",
            "10/10 [==============================] - 13s 1s/step - loss: 0.6873 - accuracy: 0.5600 - val_loss: 0.6987 - val_accuracy: 0.4800\n",
            "Epoch 24/30\n",
            "10/10 [==============================] - 13s 1s/step - loss: 0.6948 - accuracy: 0.5100 - val_loss: 0.6954 - val_accuracy: 0.5100\n",
            "Epoch 25/30\n",
            "10/10 [==============================] - 13s 1s/step - loss: 0.6919 - accuracy: 0.5300 - val_loss: 0.6961 - val_accuracy: 0.5050\n",
            "Epoch 26/30\n",
            "10/10 [==============================] - 13s 1s/step - loss: 0.6932 - accuracy: 0.5100 - val_loss: 0.6914 - val_accuracy: 0.5300\n",
            "Epoch 27/30\n",
            "10/10 [==============================] - 13s 1s/step - loss: 0.6942 - accuracy: 0.5100 - val_loss: 0.6955 - val_accuracy: 0.5000\n",
            "Epoch 28/30\n",
            "10/10 [==============================] - 13s 1s/step - loss: 0.6792 - accuracy: 0.6000 - val_loss: 0.7023 - val_accuracy: 0.4650\n",
            "Epoch 29/30\n",
            "10/10 [==============================] - 13s 1s/step - loss: 0.7056 - accuracy: 0.4300 - val_loss: 0.6946 - val_accuracy: 0.5100\n",
            "Epoch 30/30\n",
            "10/10 [==============================] - 13s 1s/step - loss: 0.7004 - accuracy: 0.4700 - val_loss: 0.6924 - val_accuracy: 0.5200\n"
          ],
          "name": "stdout"
        }
      ]
    },
    {
      "cell_type": "code",
      "metadata": {
        "id": "K5kzUlwDxi2I"
      },
      "source": [],
      "execution_count": null,
      "outputs": []
    }
  ]
}