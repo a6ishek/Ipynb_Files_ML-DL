{
  "nbformat": 4,
  "nbformat_minor": 0,
  "metadata": {
    "colab": {
      "provenance": [],
      "include_colab_link": true
    },
    "kernelspec": {
      "name": "python3",
      "display_name": "Python 3"
    },
    "accelerator": "GPU"
  },
  "cells": [
    {
      "cell_type": "markdown",
      "metadata": {
        "id": "view-in-github",
        "colab_type": "text"
      },
      "source": [
        "<a href=\"https://colab.research.google.com/github/a6ishek/Ipynb_Files_ML-DL/blob/main/Sample_pneumonia_CNN.ipynb\" target=\"_parent\"><img src=\"https://colab.research.google.com/assets/colab-badge.svg\" alt=\"Open In Colab\"/></a>"
      ]
    },
    {
      "cell_type": "code",
      "metadata": {
        "id": "6kVnHA3Dcah9"
      },
      "source": [
        "import pandas as pd\n",
        "import numpy as np\n",
        "import tensorflow.keras as tf\n",
        "from sklearn.model_selection import train_test_split\n",
        "from sklearn.impute import SimpleImputer"
      ],
      "execution_count": null,
      "outputs": []
    },
    {
      "cell_type": "code",
      "metadata": {
        "id": "bfdyQaSxdoUL",
        "outputId": "2988e967-1a45-439f-acdf-ec0e5447d6f9",
        "colab": {
          "base_uri": "https://localhost:8080/",
          "height": 34
        }
      },
      "source": [
        "from google.colab import drive\n",
        "drive.mount('/content/drive')"
      ],
      "execution_count": null,
      "outputs": [
        {
          "output_type": "stream",
          "text": [
            "Mounted at /content/drive\n"
          ],
          "name": "stdout"
        }
      ]
    },
    {
      "cell_type": "code",
      "metadata": {
        "id": "dDML2OmfxnHb"
      },
      "source": [
        "from zipfile import ZipFile"
      ],
      "execution_count": null,
      "outputs": []
    },
    {
      "cell_type": "code",
      "metadata": {
        "id": "jFx8FppvyD0p",
        "outputId": "a601e35b-33cd-43e9-f5a8-25b8eb6c2fe8",
        "colab": {
          "base_uri": "https://localhost:8080/",
          "height": 34
        }
      },
      "source": [
        "file_name = \"/content/drive/My Drive/archive (5).zip\"\n",
        "with ZipFile(file_name,'r') as zip:\n",
        "  zip.extractall()\n",
        "  print(\"Completed\")"
      ],
      "execution_count": null,
      "outputs": [
        {
          "output_type": "stream",
          "text": [
            "Completed\n"
          ],
          "name": "stdout"
        }
      ]
    },
    {
      "cell_type": "code",
      "metadata": {
        "id": "lpcd9_8ry9mx"
      },
      "source": [
        "import numpy as np\n",
        "import matplotlib.pyplot as plt\n",
        "from tensorflow.keras.layers import *\n",
        "from tensorflow.keras.models import *\n",
        "from tensorflow.keras.preprocessing import image\n"
      ],
      "execution_count": null,
      "outputs": []
    },
    {
      "cell_type": "code",
      "metadata": {
        "id": "i11xLTeq0uPl"
      },
      "source": [
        "#Training model\n",
        "model = Sequential()   ## creating a blank model\n",
        "model.add(Conv2D(32,kernel_size=(3,3),activation='relu',input_shape=(224,224,3)))\n",
        "model.add(MaxPooling2D(pool_size=(2,2)))\n",
        "model.add(Conv2D(64,(3,3),activation='relu'))\n",
        "model.add(MaxPooling2D(pool_size=(2,2)))\n",
        "model.add(Dropout(0.25))    ### reduce the overfitting\n",
        "\n",
        "model.add(Conv2D(64,(3,3),activation='relu'))\n",
        "model.add(MaxPooling2D(pool_size=(2,2)))\n",
        "model.add(Dropout(0.25))\n",
        "\n",
        "model.add(Conv2D(128,(3,3),activation='relu'))\n",
        "model.add(MaxPooling2D(pool_size=(2,2)))\n",
        "model.add(Dropout(0.25))\n",
        "\n",
        "model.add(Flatten())    ### input layer\n",
        "model.add(Dense(64,activation='relu'))    ## hidden layer of ann\n",
        "model.add(Dropout(0.5))\n",
        "model.add(Dense(1,activation='sigmoid'))   ## output layer\n",
        "\n",
        "model.compile(loss='binary_crossentropy',optimizer='adam',metrics=['accuracy'])\n"
      ],
      "execution_count": null,
      "outputs": []
    },
    {
      "cell_type": "code",
      "metadata": {
        "id": "d1Ydx8by4PfU"
      },
      "source": [
        "#Moulding train images\n",
        "train_datagen = image.ImageDataGenerator(rescale = 1./255, shear_range = 0.2,zoom_range = 0.2, horizontal_flip = True)\n",
        "\n",
        "test_dataset = image.ImageDataGenerator(rescale=1./255)\n"
      ],
      "execution_count": null,
      "outputs": []
    },
    {
      "cell_type": "code",
      "metadata": {
        "id": "f6GmiiCK5Q83",
        "outputId": "92792b3f-7cb5-4503-f158-780a99872bae",
        "colab": {
          "base_uri": "https://localhost:8080/",
          "height": 50
        }
      },
      "source": [
        "#Reshaping test and validation images\n",
        "train_generator = train_datagen.flow_from_directory(\n",
        "    '/content/xray_dataset_covid19/train',\n",
        "    target_size = (224,224),\n",
        "    batch_size = 10,\n",
        "    class_mode = 'binary')\n",
        "validation_generator = test_dataset.flow_from_directory(\n",
        "    '/content/xray_dataset_covid19/test',\n",
        "    target_size = (224,224),\n",
        "    batch_size = 10,\n",
        "    class_mode = 'binary')\n"
      ],
      "execution_count": null,
      "outputs": [
        {
          "output_type": "stream",
          "text": [
            "Found 148 images belonging to 2 classes.\n",
            "Found 40 images belonging to 2 classes.\n"
          ],
          "name": "stdout"
        }
      ]
    },
    {
      "cell_type": "code",
      "metadata": {
        "id": "2j6V6NNM-LF5",
        "outputId": "e2d90af8-98d3-4e12-9770-c952eb8cb9ff",
        "colab": {
          "base_uri": "https://localhost:8080/",
          "height": 759
        }
      },
      "source": [
        "#### Train the model\n",
        "history = model.fit_generator(\n",
        "    train_generator,\n",
        "    steps_per_epoch=4,\n",
        "    epochs = 20,\n",
        "    validation_data = validation_generator,\n",
        "    validation_steps=1\n",
        ")\n"
      ],
      "execution_count": null,
      "outputs": [
        {
          "output_type": "stream",
          "text": [
            "WARNING:tensorflow:From <ipython-input-9-fd652d32c04d>:7: Model.fit_generator (from tensorflow.python.keras.engine.training) is deprecated and will be removed in a future version.\n",
            "Instructions for updating:\n",
            "Please use Model.fit, which supports generators.\n",
            "Epoch 1/20\n",
            "4/4 [==============================] - 2s 510ms/step - loss: 0.7717 - accuracy: 0.5000 - val_loss: 0.6883 - val_accuracy: 0.3000\n",
            "Epoch 2/20\n",
            "4/4 [==============================] - 2s 516ms/step - loss: 0.9352 - accuracy: 0.2632 - val_loss: 0.6984 - val_accuracy: 0.4000\n",
            "Epoch 3/20\n",
            "4/4 [==============================] - 2s 556ms/step - loss: 0.6951 - accuracy: 0.4500 - val_loss: 0.6935 - val_accuracy: 0.4000\n",
            "Epoch 4/20\n",
            "4/4 [==============================] - 2s 569ms/step - loss: 0.6903 - accuracy: 0.5263 - val_loss: 0.6925 - val_accuracy: 0.4000\n",
            "Epoch 5/20\n",
            "4/4 [==============================] - 2s 477ms/step - loss: 0.6941 - accuracy: 0.5263 - val_loss: 0.6929 - val_accuracy: 0.5000\n",
            "Epoch 6/20\n",
            "4/4 [==============================] - 2s 604ms/step - loss: 0.6895 - accuracy: 0.5000 - val_loss: 0.6897 - val_accuracy: 0.5000\n",
            "Epoch 7/20\n",
            "4/4 [==============================] - 2s 471ms/step - loss: 0.6442 - accuracy: 0.6579 - val_loss: 0.6644 - val_accuracy: 0.6000\n",
            "Epoch 8/20\n",
            "4/4 [==============================] - 2s 454ms/step - loss: 0.7441 - accuracy: 0.5789 - val_loss: 0.6602 - val_accuracy: 0.6000\n",
            "Epoch 9/20\n",
            "4/4 [==============================] - 2s 549ms/step - loss: 0.6607 - accuracy: 0.6500 - val_loss: 0.6925 - val_accuracy: 0.4000\n",
            "Epoch 10/20\n",
            "4/4 [==============================] - 2s 518ms/step - loss: 0.6727 - accuracy: 0.5250 - val_loss: 0.6677 - val_accuracy: 1.0000\n",
            "Epoch 11/20\n",
            "4/4 [==============================] - 2s 528ms/step - loss: 0.6447 - accuracy: 0.7000 - val_loss: 0.6717 - val_accuracy: 0.5000\n",
            "Epoch 12/20\n",
            "4/4 [==============================] - 2s 447ms/step - loss: 0.6938 - accuracy: 0.5750 - val_loss: 0.6524 - val_accuracy: 0.9000\n",
            "Epoch 13/20\n",
            "4/4 [==============================] - 2s 591ms/step - loss: 0.6625 - accuracy: 0.6842 - val_loss: 0.6712 - val_accuracy: 0.7000\n",
            "Epoch 14/20\n",
            "4/4 [==============================] - 2s 560ms/step - loss: 0.6350 - accuracy: 0.7750 - val_loss: 0.6346 - val_accuracy: 1.0000\n",
            "Epoch 15/20\n",
            "4/4 [==============================] - 2s 504ms/step - loss: 0.5428 - accuracy: 0.7750 - val_loss: 0.5349 - val_accuracy: 0.8000\n",
            "Epoch 16/20\n",
            "4/4 [==============================] - 3s 704ms/step - loss: 0.5653 - accuracy: 0.7750 - val_loss: 0.4776 - val_accuracy: 0.9000\n",
            "Epoch 17/20\n",
            "4/4 [==============================] - 2s 512ms/step - loss: 0.4855 - accuracy: 0.8500 - val_loss: 0.4416 - val_accuracy: 0.8000\n",
            "Epoch 18/20\n",
            "4/4 [==============================] - 2s 527ms/step - loss: 0.3803 - accuracy: 0.8684 - val_loss: 0.2557 - val_accuracy: 0.9000\n",
            "Epoch 19/20\n",
            "4/4 [==============================] - 3s 687ms/step - loss: 0.4431 - accuracy: 0.7895 - val_loss: 0.3079 - val_accuracy: 0.9000\n",
            "Epoch 20/20\n",
            "4/4 [==============================] - 2s 592ms/step - loss: 0.2803 - accuracy: 0.9000 - val_loss: 0.1554 - val_accuracy: 0.9000\n"
          ],
          "name": "stdout"
        }
      ]
    },
    {
      "cell_type": "code",
      "metadata": {
        "id": "LFu0qf3VAsdU",
        "outputId": "57b80150-fa1c-40d8-f8b5-5deb63a9120b",
        "colab": {
          "base_uri": "https://localhost:8080/",
          "height": 241
        }
      },
      "source": [
        "img = image.load_img('pneumonia.jpg',target_size=(224,224))\n",
        "img"
      ],
      "execution_count": null,
      "outputs": [
        {
          "output_type": "execute_result",
          "data": {
            "image/png": "[encoded data removed]",
            "text/plain": [
              "<PIL.Image.Image image mode=RGB size=224x224 at 0x7F4CB46A50B8>"
            ]
          },
          "metadata": {
            "tags": []
          },
          "execution_count": 10
        }
      ]
    },
    {
      "cell_type": "code",
      "metadata": {
        "id": "tgEvgM7lDZ5I",
        "outputId": "e40560de-1b95-42ac-a161-f5a1316c025d",
        "colab": {
          "base_uri": "https://localhost:8080/",
          "height": 840
        }
      },
      "source": [
        "img = image.img_to_array(img)\n",
        "img"
      ],
      "execution_count": null,
      "outputs": [
        {
          "output_type": "execute_result",
          "data": {
            "text/plain": [
              "array([[[194., 194., 194.],\n",
              "        [194., 194., 194.],\n",
              "        [196., 196., 196.],\n",
              "        ...,\n",
              "        [122., 122., 122.],\n",
              "        [125., 125., 125.],\n",
              "        [128., 128., 128.]],\n",
              "\n",
              "       [[136., 136., 136.],\n",
              "        [137., 137., 137.],\n",
              "        [138., 138., 138.],\n",
              "        ...,\n",
              "        [128., 128., 128.],\n",
              "        [130., 130., 130.],\n",
              "        [133., 133., 133.]],\n",
              "\n",
              "       [[132., 132., 132.],\n",
              "        [132., 132., 132.],\n",
              "        [134., 134., 134.],\n",
              "        ...,\n",
              "        [119., 119., 119.],\n",
              "        [112., 112., 112.],\n",
              "        [117., 117., 117.]],\n",
              "\n",
              "       ...,\n",
              "\n",
              "       [[  4.,   4.,   4.],\n",
              "        [  2.,   2.,   2.],\n",
              "        [  3.,   3.,   3.],\n",
              "        ...,\n",
              "        [ 46.,  46.,  46.],\n",
              "        [ 38.,  38.,  38.],\n",
              "        [ 31.,  31.,  31.]],\n",
              "\n",
              "       [[  3.,   3.,   3.],\n",
              "        [  1.,   1.,   1.],\n",
              "        [  3.,   3.,   3.],\n",
              "        ...,\n",
              "        [ 44.,  44.,  44.],\n",
              "        [ 37.,  37.,  37.],\n",
              "        [ 30.,  30.,  30.]],\n",
              "\n",
              "       [[  3.,   3.,   3.],\n",
              "        [  1.,   1.,   1.],\n",
              "        [  3.,   3.,   3.],\n",
              "        ...,\n",
              "        [ 43.,  43.,  43.],\n",
              "        [ 35.,  35.,  35.],\n",
              "        [ 29.,  29.,  29.]]], dtype=float32)"
            ]
          },
          "metadata": {
            "tags": []
          },
          "execution_count": 11
        }
      ]
    },
    {
      "cell_type": "code",
      "metadata": {
        "id": "XIsb-J7zDoCS"
      },
      "source": [
        "img = np.expand_dims(img,axis=0)#flatten"
      ],
      "execution_count": null,
      "outputs": []
    },
    {
      "cell_type": "code",
      "metadata": {
        "id": "DQoLSg4IDukt",
        "outputId": "d0f6aacf-8a3e-4035-95cf-78b1cc80ad43",
        "colab": {
          "base_uri": "https://localhost:8080/",
          "height": 34
        }
      },
      "source": [
        "ypred = np.argmax(model.predict(img), axis=-1)\n",
        "ypred"
      ],
      "execution_count": null,
      "outputs": [
        {
          "output_type": "execute_result",
          "data": {
            "text/plain": [
              "array([0])"
            ]
          },
          "metadata": {
            "tags": []
          },
          "execution_count": 15
        }
      ]
    },
    {
      "cell_type": "code",
      "metadata": {
        "id": "bXmZPg38D4LT"
      },
      "source": [],
      "execution_count": null,
      "outputs": []
    }
  ]
}