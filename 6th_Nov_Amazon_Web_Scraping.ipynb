{
  "nbformat": 4,
  "nbformat_minor": 0,
  "metadata": {
    "colab": {
      "provenance": [],
      "include_colab_link": true
    },
    "kernelspec": {
      "name": "python3",
      "display_name": "Python 3"
    }
  },
  "cells": [
    {
      "cell_type": "markdown",
      "metadata": {
        "id": "view-in-github",
        "colab_type": "text"
      },
      "source": [
        "<a href=\"https://colab.research.google.com/github/a6ishek/Ipynb_Files_ML-DL/blob/main/6th_Nov_Amazon_Web_Scraping.ipynb\" target=\"_parent\"><img src=\"https://colab.research.google.com/assets/colab-badge.svg\" alt=\"Open In Colab\"/></a>"
      ]
    },
    {
      "cell_type": "code",
      "metadata": {
        "id": "uPzBg-YCvqm5"
      },
      "source": [
        "from bs4 import BeautifulSoup\n",
        "import requests"
      ],
      "execution_count": null,
      "outputs": []
    },
    {
      "cell_type": "code",
      "metadata": {
        "id": "3KO_TabRv71a"
      },
      "source": [
        "url = \"https://www.amazon.in/OnePlus-Nord-Marble-128GB-Storage/product-reviews/B086977J3K/ref=cm_cr_dp_d_show_all_btm?ie=UTF8&reviewerType=all_reviews\""
      ],
      "execution_count": null,
      "outputs": []
    },
    {
      "cell_type": "code",
      "metadata": {
        "id": "36Axgf3DwBO-",
        "outputId": "daec0d32-e9b5-4a4a-8562-b321cdb562cc",
        "colab": {
          "base_uri": "https://localhost:8080/"
        }
      },
      "source": [
        "page = requests.get(url)\n",
        "page"
      ],
      "execution_count": null,
      "outputs": [
        {
          "output_type": "execute_result",
          "data": {
            "text/plain": [
              "<Response [200]>"
            ]
          },
          "metadata": {
            "tags": []
          },
          "execution_count": 4
        }
      ]
    },
    {
      "cell_type": "code",
      "metadata": {
        "id": "sT82byhEwLLS"
      },
      "source": [
        "soup = BeautifulSoup(page.content,'html.parser')\n",
        "print(soup.prettify())"
      ],
      "execution_count": null,
      "outputs": []
    },
    {
      "cell_type": "code",
      "metadata": {
        "id": "X3IIhthkwWOy"
      },
      "source": [
        "names = soup.select(\"span.a-profile-name\")[2:]\n",
        "names"
      ],
      "execution_count": null,
      "outputs": []
    },
    {
      "cell_type": "code",
      "metadata": {
        "id": "redJDg3JyEKj",
        "outputId": "b7a1b0db-225c-4529-8aae-c9f65cf0c1b9",
        "colab": {
          "base_uri": "https://localhost:8080/"
        }
      },
      "source": [
        "stars = soup.select('span.a-icon-alt')[3:]\n",
        "stars"
      ],
      "execution_count": null,
      "outputs": [
        {
          "output_type": "execute_result",
          "data": {
            "text/plain": [
              "[<span class=\"a-icon-alt\">3.0 out of 5 stars</span>,\n",
              " <span class=\"a-icon-alt\">4.0 out of 5 stars</span>,\n",
              " <span class=\"a-icon-alt\">4.0 out of 5 stars</span>,\n",
              " <span class=\"a-icon-alt\">5.0 out of 5 stars</span>,\n",
              " <span class=\"a-icon-alt\">2.0 out of 5 stars</span>,\n",
              " <span class=\"a-icon-alt\">1.0 out of 5 stars</span>,\n",
              " <span class=\"a-icon-alt\">1.0 out of 5 stars</span>,\n",
              " <span class=\"a-icon-alt\">5.0 out of 5 stars</span>,\n",
              " <span class=\"a-icon-alt\">5.0 out of 5 stars</span>,\n",
              " <span class=\"a-icon-alt\">1.0 out of 5 stars</span>]"
            ]
          },
          "metadata": {
            "tags": []
          },
          "execution_count": 38
        }
      ]
    },
    {
      "cell_type": "code",
      "metadata": {
        "id": "D5JFf1gr0Iya"
      },
      "source": [
        "title = soup.select(\"a.review-title span\")\n",
        "title"
      ],
      "execution_count": null,
      "outputs": []
    },
    {
      "cell_type": "code",
      "metadata": {
        "id": "pfeOT1hz1TLv"
      },
      "source": [
        "dates = soup.select('span.review-date')[2:]\n",
        "dates"
      ],
      "execution_count": null,
      "outputs": []
    },
    {
      "cell_type": "code",
      "metadata": {
        "id": "HHn-J8Tm5lRZ"
      },
      "source": [
        "desc = soup.select('span.review-text-content span')\n",
        "desc"
      ],
      "execution_count": null,
      "outputs": []
    },
    {
      "cell_type": "code",
      "metadata": {
        "id": "VZBRH7yb59XV"
      },
      "source": [
        "cust_name = []\n",
        "ratings = []\n",
        "rev_title = []\n",
        "rev_date = []\n",
        "rev_desc = []\n",
        "for i in range(len(names)):\n",
        "  cust_name.append(names[i].get_text())\n",
        "  ratings.append(stars[i].get_text()[:3])\n",
        "  rev_title.append(title[i].get_text())\n",
        "  rev_date.append(dates[i].get_text().replace(\"Reviewed in India on \",\"\"))\n",
        "  rev_desc.append(desc[i].get_text().strip(\"\\n \"))"
      ],
      "execution_count": null,
      "outputs": []
    },
    {
      "cell_type": "code",
      "metadata": {
        "id": "mCoofFIz6vQR"
      },
      "source": [
        "rev_title"
      ],
      "execution_count": null,
      "outputs": []
    },
    {
      "cell_type": "code",
      "metadata": {
        "id": "8EGCSRMA7Obh"
      },
      "source": [
        "import pandas as pd\n",
        "df = pd.DataFrame()\n",
        "df['Date'] = rev_date\n",
        "df['Name'] = cust_name\n",
        "df['Ratings'] = ratings\n",
        "df[\"Title\"] = rev_title\n",
        "df[\"Description\"] = rev_desc\n",
        "df"
      ],
      "execution_count": null,
      "outputs": []
    },
    {
      "cell_type": "code",
      "metadata": {
        "id": "1BYaIH---CFN"
      },
      "source": [
        "df.to_csv(\"reviews.csv\")"
      ],
      "execution_count": null,
      "outputs": []
    },
    {
      "cell_type": "code",
      "metadata": {
        "id": "zdiCsVJ5-epA"
      },
      "source": [
        "cust_name = []\n",
        "ratings = []\n",
        "rev_title = []\n",
        "rev_date = []\n",
        "rev_desc = []\n",
        "error = []\n",
        "for i in range(1,201):\n",
        "  url = \"https://www.amazon.in/OnePlus-Nord-Marble-128GB-Storage/product-reviews/B086977J3K/ref=cm_cr_arp_d_paging_btm_next_2?ie=UTF8&reviewerType=all_reviews&pageNumber=\"+str(i)\n",
        "  page = requests.get(url)\n",
        "  if str(page)[11:14] == \"200\":\n",
        "    soup = BeautifulSoup(page.content,'html.parser')\n",
        "    names = soup.select(\"span.a-profile-name\")[2:]\n",
        "    stars = soup.select('span.a-icon-alt')[3:]\n",
        "    title = soup.select(\"a.review-title span\")\n",
        "    dates = soup.select('span.review-date')[2:]\n",
        "    desc = soup.select('span.review-text-content span')\n",
        "    for j in range(len(names)):\n",
        "      cust_name.append(names[j].get_text())\n",
        "      ratings.append(stars[j].get_text()[:3])\n",
        "      rev_title.append(title[j].get_text())\n",
        "      rev_date.append(dates[j].get_text().replace(\"Reviewed in India on \",\"\"))\n",
        "      rev_desc.append(desc[j].get_text().strip(\"\\n \"))\n",
        "  else:\n",
        "    error.append(i)"
      ],
      "execution_count": null,
      "outputs": []
    },
    {
      "cell_type": "code",
      "metadata": {
        "id": "1Nt0_Ni2AOUM",
        "outputId": "01dc89e2-2793-4bd8-a51d-e003385c03fa",
        "colab": {
          "base_uri": "https://localhost:8080/"
        }
      },
      "source": [
        "len(cust_name)"
      ],
      "execution_count": null,
      "outputs": [
        {
          "output_type": "execute_result",
          "data": {
            "text/plain": [
              "1670"
            ]
          },
          "metadata": {
            "tags": []
          },
          "execution_count": 52
        }
      ]
    },
    {
      "cell_type": "code",
      "metadata": {
        "id": "bQqDT0GXA35G"
      },
      "source": [
        "error"
      ],
      "execution_count": null,
      "outputs": []
    },
    {
      "cell_type": "code",
      "metadata": {
        "id": "-h88owwrBQEX"
      },
      "source": [
        "a = \"umang\""
      ],
      "execution_count": null,
      "outputs": []
    },
    {
      "cell_type": "code",
      "metadata": {
        "id": "wb1KA9-IB85M"
      },
      "source": [
        "a[3]"
      ],
      "execution_count": null,
      "outputs": []
    },
    {
      "cell_type": "code",
      "metadata": {
        "id": "M7qaAOwoB-jF"
      },
      "source": [
        "import pandas as pd\n",
        "df = pd.DataFrame()\n",
        "df['Date'] = rev_date\n",
        "df['Name'] = cust_name\n",
        "df['Ratings'] = ratings\n",
        "df[\"Title\"] = rev_title\n",
        "df[\"Description\"] = rev_desc\n",
        "df.to_csv(\"reviews.csv\")"
      ],
      "execution_count": null,
      "outputs": []
    },
    {
      "cell_type": "code",
      "metadata": {
        "id": "073NQ7IcCxW1"
      },
      "source": [],
      "execution_count": null,
      "outputs": []
    }
  ]
}